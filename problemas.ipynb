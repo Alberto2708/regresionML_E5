{
 "cells": [
  {
   "cell_type": "markdown",
   "id": "64c08a2b",
   "metadata": {},
   "source": [
    "Para importar el dataset corran en terminal\n",
    "_pip install uimclrepo_\n",
    "\n",
    "\n",
    "En el gitignore pongan los archivos de sus virtual environments uwu pofavo"
   ]
  },
  {
   "cell_type": "code",
   "execution_count": 72,
   "id": "ff17f206",
   "metadata": {},
   "outputs": [],
   "source": [
    "# pip install ucimlrepo\n",
    "import numpy as np\n",
    "import pandas as pd\n",
    "import matplotlib.pyplot as plt\n",
    "import sklearn as sk \n",
    "from sklearn.linear_model import SGDRegressor\n",
    "from sklearn.preprocessing import StandardScaler\n",
    "from sklearn.pipeline import make_pipeline\n",
    "from sklearn.model_selection import train_test_split,  cross_val_predict, cross_val_score\n",
    "from sklearn.metrics import r2_score, mean_squared_error"
   ]
  },
  {
   "cell_type": "code",
   "execution_count": 73,
   "id": "8a16e5de",
   "metadata": {},
   "outputs": [
    {
     "name": "stdout",
     "output_type": "stream",
     "text": [
      "{'uci_id': 189, 'name': 'Parkinsons Telemonitoring', 'repository_url': 'https://archive.ics.uci.edu/dataset/189/parkinsons+telemonitoring', 'data_url': 'https://archive.ics.uci.edu/static/public/189/data.csv', 'abstract': \"Oxford Parkinson's Disease Telemonitoring Dataset\", 'area': 'Health and Medicine', 'tasks': ['Regression'], 'characteristics': ['Tabular'], 'num_instances': 5875, 'num_features': 19, 'feature_types': ['Integer', 'Real'], 'demographics': ['Age', 'Sex'], 'target_col': ['motor_UPDRS', 'total_UPDRS'], 'index_col': ['subject#'], 'has_missing_values': 'no', 'missing_values_symbol': None, 'year_of_dataset_creation': 2009, 'last_updated': 'Fri Nov 03 2023', 'dataset_doi': '10.24432/C5ZS3N', 'creators': ['Athanasios Tsanas', 'Max Little'], 'intro_paper': {'ID': 229, 'type': 'NATIVE', 'title': \"Accurate Telemonitoring of Parkinson's Disease Progression by Noninvasive Speech Tests\", 'authors': 'A. Tsanas, Max A. Little, P. McSharry, L. Ramig', 'venue': 'IEEE Transactions on Biomedical Engineering', 'year': 2010, 'journal': None, 'DOI': None, 'URL': 'https://www.semanticscholar.org/paper/1fdf33b6d8b1bdb38866ba824c1dcaecdfb6bdd6', 'sha': None, 'corpus': None, 'arxiv': None, 'mag': None, 'acl': None, 'pmid': '19932995', 'pmcid': None}, 'additional_info': {'summary': \"This dataset is composed of a range of biomedical voice measurements from 42 people with early-stage Parkinson's disease recruited to a six-month trial of a telemonitoring device for remote symptom progression monitoring. The recordings were automatically captured in the patient's homes.\\r\\n\\r\\nColumns in the table contain subject number, subject age, subject gender, time interval from baseline recruitment date, motor UPDRS, total UPDRS, and 16 biomedical voice measures. Each row corresponds to one of 5,875 voice recording from these individuals. The main aim of the data is to predict the motor and total UPDRS scores ('motor_UPDRS' and 'total_UPDRS') from the 16 voice measures.\\r\\n\\r\\nThe data is in ASCII CSV format. The rows of the CSV file contain an instance corresponding to one voice recording. There are around 200 recordings per patient, the subject number of the patient is identified in the first column. For further information or to pass on comments, please contact Athanasios Tsanas (tsanasthanasis@gmail.com) or Max Little (littlem@physics.ox.ac.uk).\\r\\n\\r\\nFurther details are contained in the following reference -- if you use this dataset, please cite:\\r\\nAthanasios Tsanas, Max A. Little, Patrick E. McSharry, Lorraine O. Ramig (2009),\\r\\n'Accurate telemonitoring of Parkinson’s disease progression by non-invasive speech tests',\\r\\nIEEE Transactions on Biomedical Engineering (to appear).\\r\\n\\r\\nFurther details about the biomedical voice measures can be found in:\\r\\nMax A. Little, Patrick E. McSharry, Eric J. Hunter, Lorraine O. Ramig (2009), \\r\\n'Suitability of dysphonia measurements for telemonitoring of Parkinson's disease', \\r\\nIEEE Transactions on Biomedical Engineering, 56(4):1015-1022\\r\\n\", 'purpose': None, 'funded_by': None, 'instances_represent': None, 'recommended_data_splits': None, 'sensitive_data': None, 'preprocessing_description': None, 'variable_info': \"subject# - Integer that uniquely identifies each subject\\r\\nage - Subject age\\r\\nsex - Subject gender '0' - male, '1' - female\\r\\ntest_time - Time since recruitment into the trial. The integer part is the number of days since recruitment. \\r\\nmotor_UPDRS - Clinician's motor UPDRS score, linearly interpolated\\r\\ntotal_UPDRS - Clinician's total UPDRS score, linearly interpolated\\r\\nJitter(%),Jitter(Abs),Jitter:RAP,Jitter:PPQ5,Jitter:DDP - Several measures of variation in fundamental frequency\\r\\nShimmer,Shimmer(dB),Shimmer:APQ3,Shimmer:APQ5,Shimmer:APQ11,Shimmer:DDA - Several measures of variation in amplitude\\r\\nNHR,HNR - Two measures of ratio of noise to tonal components in the voice\\r\\nRPDE - A nonlinear dynamical complexity measure\\r\\nDFA - Signal fractal scaling exponent\\r\\nPPE - A nonlinear measure of fundamental frequency variation \\r\\n\", 'citation': None}}\n",
      "             name     role        type demographic  \\\n",
      "0        subject#       ID     Integer        None   \n",
      "1             age  Feature     Integer         Age   \n",
      "2       test_time  Feature  Continuous        None   \n",
      "3       Jitter(%)  Feature  Continuous        None   \n",
      "4     Jitter(Abs)  Feature  Continuous        None   \n",
      "5      Jitter:RAP  Feature  Continuous        None   \n",
      "6     Jitter:PPQ5  Feature  Continuous        None   \n",
      "7      Jitter:DDP  Feature  Continuous        None   \n",
      "8         Shimmer  Feature  Continuous        None   \n",
      "9     Shimmer(dB)  Feature  Continuous        None   \n",
      "10   Shimmer:APQ3  Feature  Continuous        None   \n",
      "11   Shimmer:APQ5  Feature  Continuous        None   \n",
      "12  Shimmer:APQ11  Feature  Continuous        None   \n",
      "13    Shimmer:DDA  Feature  Continuous        None   \n",
      "14            NHR  Feature  Continuous        None   \n",
      "15            HNR  Feature  Continuous        None   \n",
      "16           RPDE  Feature  Continuous        None   \n",
      "17            DFA  Feature  Continuous        None   \n",
      "18            PPE  Feature  Continuous        None   \n",
      "19    motor_UPDRS   Target  Continuous        None   \n",
      "20    total_UPDRS   Target  Continuous        None   \n",
      "21            sex  Feature      Binary         Sex   \n",
      "\n",
      "                                          description units missing_values  \n",
      "0       Integer that uniquely identifies each subject  None             no  \n",
      "1                                         Subject age  None             no  \n",
      "2   Time since recruitment into the trial. The int...  None             no  \n",
      "3   Several measures of variation in fundamental f...  None             no  \n",
      "4   Several measures of variation in fundamental f...  None             no  \n",
      "5   Several measures of variation in fundamental f...  None             no  \n",
      "6   Several measures of variation in fundamental f...  None             no  \n",
      "7   Several measures of variation in fundamental f...  None             no  \n",
      "8          Several measures of variation in amplitude  None             no  \n",
      "9          Several measures of variation in amplitude  None             no  \n",
      "10         Several measures of variation in amplitude  None             no  \n",
      "11         Several measures of variation in amplitude  None             no  \n",
      "12         Several measures of variation in amplitude  None             no  \n",
      "13         Several measures of variation in amplitude  None             no  \n",
      "14  Two measures of ratio of noise to tonal compon...  None             no  \n",
      "15  Two measures of ratio of noise to tonal compon...  None             no  \n",
      "16           A nonlinear dynamical complexity measure  None             no  \n",
      "17                    Signal fractal scaling exponent  None             no  \n",
      "18  A nonlinear measure of fundamental frequency v...  None             no  \n",
      "19  Clinician's motor UPDRS score, linearly interp...  None             no  \n",
      "20  Clinician's total UPDRS score, linearly interp...  None             no  \n",
      "21               Subject sex '0' - male, '1' - female  None             no  \n"
     ]
    }
   ],
   "source": [
    "from ucimlrepo import fetch_ucirepo \n",
    "  \n",
    "# fetch dataset \n",
    "parkinsons_telemonitoring = fetch_ucirepo(id=189) \n",
    "  \n",
    "# data (as pandas dataframes) \n",
    "X = parkinsons_telemonitoring.data.features \n",
    "y = parkinsons_telemonitoring.data.targets \n",
    "  \n",
    "# metadata \n",
    "print(parkinsons_telemonitoring.metadata) \n",
    "  \n",
    "# variable information \n",
    "print(parkinsons_telemonitoring.variables) \n"
   ]
  },
  {
   "cell_type": "markdown",
   "id": "162fe5b8",
   "metadata": {},
   "source": [
    "# Modelo lineal\n",
    "## Entrenar el modelo con las variables asignadas en el ejercicio "
   ]
  },
  {
   "cell_type": "code",
   "execution_count": 74,
   "id": "1c0f800e",
   "metadata": {},
   "outputs": [
    {
     "name": "stdout",
     "output_type": "stream",
     "text": [
      "Max correlation is between DFA and total UPDRS: 0.9935340131635216\n"
     ]
    }
   ],
   "source": [
    "#Primero buscamos la correlación entre las variables a ver cuál tiene mejor coeficiente \n",
    "\n",
    "max_corr = 0\n",
    "max_col = None\n",
    "for col in X.columns:\n",
    "    feature = X[col]\n",
    "    target = y[\"total_UPDRS\"]\n",
    "    feature = np.sort(feature)\n",
    "    target = np.sort(target)\n",
    "    corr = np.corrcoef(feature, target)[0, 1]\n",
    "    if corr > max_corr:\n",
    "        max_corr = corr\n",
    "        max_col = col\n",
    "\n",
    "print(f\"Max correlation is between {max_col} and total UPDRS: {max_corr}\")"
   ]
  },
  {
   "cell_type": "code",
   "execution_count": 75,
   "id": "6596b5fb",
   "metadata": {},
   "outputs": [
    {
     "name": "stdout",
     "output_type": "stream",
     "text": [
      "Correlation: [[1.         0.99353401]\n",
      " [0.99353401 1.        ]]\n",
      "[ 7.     7.     7.    ... 54.992 54.992 54.992]\n"
     ]
    },
    {
     "data": {
      "image/png": "[encoded data removed]",
      "text/plain": [
       "<Figure size 700x700 with 1 Axes>"
      ]
     },
     "metadata": {},
     "output_type": "display_data"
    }
   ],
   "source": [
    "#Primero un un scatter plot para ver la relación con DFA\n",
    "\n",
    "feature = X[\"DFA\"] #Designamos como feature DFA, ya que tuvo el mejor coeficiente de correlación\n",
    "target = y[\"total_UPDRS\"]\n",
    "feature = np.sort(feature)\n",
    "target = np.sort(target)\n",
    "\n",
    "\n",
    "fig = plt.figure(figsize=(7,7))\n",
    "plt.scatter(feature, target)\n",
    "plt.xlabel(\"DFA\")\n",
    "plt.ylabel(\"total UPDRS\")\n",
    "\n",
    "print(f\"Correlation: {np.corrcoef(feature, target)}\")\n",
    "print(target)"
   ]
  },
  {
   "cell_type": "code",
   "execution_count": 78,
   "id": "79d08a29",
   "metadata": {},
   "outputs": [
    {
     "name": "stdout",
     "output_type": "stream",
     "text": [
      "R²: 0.9777708281577506\n",
      "MSE: 2.54471941286348\n"
     ]
    }
   ],
   "source": [
    "#Usamos un modelo de regresión lineal\n",
    "#SGDRegressor es un modelo de regresión lineal que se basa en el descenso de gradiente, usado en el notebook anterior\n",
    "model = make_pipeline(StandardScaler(), SGDRegressor(max_iter=1000, tol=1e-3))\n",
    "\n",
    "#Usamos np.array(feature).reshape(-1, 1) porque usando solo una variable necesitamos que tenga la forma correcta\n",
    "y_pred = cross_val_predict(model, np.array(feature).reshape(-1, 1), target, cv=5)\n",
    "\n",
    "#Para evaluar el resultado de la predicción con cv checamos el R2 y el MSE\n",
    "print(\"R²:\", r2_score(target, y_pred))\n",
    "print(\"MSE:\", mean_squared_error(target, y_pred))"
   ]
  }
 ],
 "metadata": {
  "kernelspec": {
   "display_name": ".venv",
   "language": "python",
   "name": "python3"
  },
  "language_info": {
   "codemirror_mode": {
    "name": "ipython",
    "version": 3
   },
   "file_extension": ".py",
   "mimetype": "text/x-python",
   "name": "python",
   "nbconvert_exporter": "python",
   "pygments_lexer": "ipython3",
   "version": "3.13.0"
  }
 },
 "nbformat": 4,
 "nbformat_minor": 5
}
